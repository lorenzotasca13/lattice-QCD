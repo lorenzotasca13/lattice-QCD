{
 "cells": [
  {
   "cell_type": "code",
   "execution_count": 1,
   "metadata": {},
   "outputs": [],
   "source": [
    "import numpy as np\n",
    "import matplotlib.pyplot as plt\n",
    "from math import sqrt"
   ]
  },
  {
   "attachments": {},
   "cell_type": "markdown",
   "id": "86c86eff",
   "metadata": {},
   "source": [
    "# **Reticolo B1**"
   ]
  },
  {
   "cell_type": "code",
   "execution_count": 2,
   "id": "a0ebe20a",
   "metadata": {},
   "outputs": [
    {
     "name": "stdout",
     "output_type": "stream",
     "text": [
      "<Q2> = 1.6109668510028254 ± 0.07202329755750297\n"
     ]
    }
   ],
   "source": [
    "Q_12_280 = np.loadtxt('Q_12_280.out')\n",
    "Qsquare_12_280=np.mean(Q_12_280**2) #calcolo <Q2>\n",
    "Qsquare_12_280_err=np.std(Q_12_280**2)/sqrt(len(Q_12_280))\n",
    "print('<Q2> =', Qsquare_12_280, '±', Qsquare_12_280_err)\n"
   ]
  },
  {
   "cell_type": "code",
   "execution_count": 3,
   "id": "d63ee332",
   "metadata": {},
   "outputs": [],
   "source": [
    "Qsquare_12=Qsquare_12_280\n",
    "Qsquare_12_err=Qsquare_12_280_err"
   ]
  },
  {
   "cell_type": "code",
   "execution_count": 4,
   "id": "9575858f",
   "metadata": {},
   "outputs": [],
   "source": [
    "t0a2_12=2.7984\n",
    "t0a2_12_err=0.0009\n",
    "chi_12=t0a2_12**2*Qsquare_12/12**4\n",
    "chi_12_err=sqrt(t0a2_12**4*Qsquare_12_err**2+4*t0a2_12**2*Qsquare_12**2*t0a2_12_err**2)/12**4 #formulazza schifosa prop errori"
   ]
  },
  {
   "attachments": {},
   "cell_type": "markdown",
   "id": "ff38c8f7",
   "metadata": {},
   "source": [
    "# **Reticolo B2**"
   ]
  },
  {
   "cell_type": "code",
   "execution_count": 5,
   "id": "817735dc",
   "metadata": {},
   "outputs": [
    {
     "name": "stdout",
     "output_type": "stream",
     "text": [
      "<Q2> = 2.825173167961285 ± 0.11940091647105588\n"
     ]
    }
   ],
   "source": [
    "Q_16b_350 = np.loadtxt('1_16b_350.out')\n",
    "Qsquare_16b_350=np.mean(Q_16b_350**2) #calcolo <Q2>  \n",
    "Qsquare_16b_350_err=np.std(Q_16b_350**2)/sqrt(len(Q_16b_350)) #calcolo errore\n",
    "print('<Q2> =', Qsquare_16b_350, '±', Qsquare_16b_350_err)\n"
   ]
  },
  {
   "cell_type": "code",
   "execution_count": 6,
   "id": "6bf3e9b8",
   "metadata": {},
   "outputs": [
    {
     "name": "stdout",
     "output_type": "stream",
     "text": [
      "<Q2> = 2.850626054626544 ± 0.11940091647105588\n"
     ]
    }
   ],
   "source": [
    "Q_16b_400 = np.loadtxt('1_16b_400.out')\n",
    "Qsquare_16b_400=np.mean(Q_16b_400**2) #calcolo <Q2>\n",
    "Qsquare_16b_400_err=np.std(Q_16b_350**2)/sqrt(len(Q_16b_400)) #calcolo errore\n",
    "\n",
    "print('<Q2> =', Qsquare_16b_400, '±', Qsquare_16b_400_err)"
   ]
  },
  {
   "cell_type": "code",
   "execution_count": 7,
   "id": "6a401c26",
   "metadata": {},
   "outputs": [
    {
     "name": "stdout",
     "output_type": "stream",
     "text": [
      "<Q2> = 2.8378996112939143 ± 0.08442919771657215\n"
     ]
    },
    {
     "data": {
      "text/plain": [
       "0.049490845634152764"
      ]
     },
     "execution_count": 7,
     "metadata": {},
     "output_type": "execute_result"
    }
   ],
   "source": [
    "Qsquare_16b=np.mean([Qsquare_16b_350, Qsquare_16b_400])\n",
    "Qsquare_16b_err=sqrt(Qsquare_16b_350_err**2+Qsquare_16b_400_err**2)/2\n",
    "print('<Q2> =', Qsquare_16b, '±', Qsquare_16b_err)\n",
    "Qsquare_16b_err*(14/16)**4"
   ]
  },
  {
   "cell_type": "code",
   "execution_count": 8,
   "id": "68751f67",
   "metadata": {},
   "outputs": [],
   "source": [
    "t0a2_16b=3.7960\n",
    "t0a2_16b_err=0.0012\n",
    "chi_16b=t0a2_16b**2*Qsquare_16b/16**4\n",
    "chi_16b_err=sqrt(t0a2_16b**4*Qsquare_16b_err**2+4*t0a2_16b**2*Qsquare_16b**2*t0a2_16b_err**2)/16**4 #formulazza schifosa prop errori\n",
    "\n"
   ]
  },
  {
   "attachments": {},
   "cell_type": "markdown",
   "id": "d872ea2f",
   "metadata": {},
   "source": [
    "# **Reticolo B3**"
   ]
  },
  {
   "cell_type": "code",
   "execution_count": 9,
   "id": "13df48f3",
   "metadata": {},
   "outputs": [
    {
     "name": "stdout",
     "output_type": "stream",
     "text": [
      "<Q2> = 1.661592629564441 ± 0.07741372489834612\n"
     ]
    }
   ],
   "source": [
    "Q_16_480 = np.loadtxt('1_16_480.out')\n",
    "Qsquare_16_480=np.mean(Q_16_480**2) #calcolo <Q2>\n",
    "Qsquare_16_480_err=np.std(Q_16_480**2)/sqrt(len(Q_16_480)) #calcolo errore\n",
    "print('<Q2> =', Qsquare_16_480, '±', Qsquare_16_480_err)"
   ]
  },
  {
   "cell_type": "code",
   "execution_count": 10,
   "id": "2c60291b",
   "metadata": {},
   "outputs": [],
   "source": [
    "Qsquare_16=Qsquare_16_480\n",
    "Qsquare_16_err=Qsquare_16_480_err"
   ]
  },
  {
   "cell_type": "code",
   "execution_count": 11,
   "id": "fa7ef84a",
   "metadata": {},
   "outputs": [],
   "source": [
    "t0a2_16=4.8855\n",
    "t0a2_16_err=0.0015\n",
    "chi_16=t0a2_16**2*Qsquare_16/16**4\n",
    "chi_16_err=sqrt(t0a2_16**4*Qsquare_16_err**2+4*t0a2_16**2*Qsquare_16**2*t0a2_16_err**2)/16**4 #formulazza schifosa prop errori\n"
   ]
  },
  {
   "attachments": {},
   "cell_type": "markdown",
   "id": "f4b0fd50",
   "metadata": {},
   "source": [
    "# **Estrapolazione al continuo**"
   ]
  },
  {
   "cell_type": "code",
   "execution_count": 12,
   "id": "c5dec59e",
   "metadata": {},
   "outputs": [],
   "source": [
    "from scipy.optimize import curve_fit\n",
    "def lin(x, m, q):\n",
    "    return x*m+q"
   ]
  },
  {
   "cell_type": "code",
   "execution_count": 13,
   "id": "b3c48e3e",
   "metadata": {},
   "outputs": [
    {
     "name": "stdout",
     "output_type": "stream",
     "text": [
      "[-9.93888452e-06  6.18570103e-04]\n",
      "[[ 6.34950225e-08 -1.73377994e-08]\n",
      " [-1.73377994e-08  4.91571689e-09]]\n"
     ]
    }
   ],
   "source": [
    "x=np.array([1/t0a2_12, 1/t0a2_16b, 1/t0a2_16])\n",
    "y=np.array([chi_12, chi_16b, chi_16])\n",
    "sigma_y=np.array([chi_12_err, chi_16b_err, chi_16_err])\n",
    "par, cov= curve_fit(lin, x, y, sigma=sigma_y, absolute_sigma=True)\n",
    "print(par)\n",
    "print(cov)\n",
    "\n"
   ]
  },
  {
   "cell_type": "code",
   "execution_count": 14,
   "id": "5ea29773",
   "metadata": {},
   "outputs": [
    {
     "data": {
      "image/png": "[encoded data removed]",
      "text/plain": [
       "<Figure size 640x480 with 1 Axes>"
      ]
     },
     "metadata": {},
     "output_type": "display_data"
    },
    {
     "name": "stdout",
     "output_type": "stream",
     "text": [
      "[0.35734706 0.26343519 0.20468734]\n"
     ]
    }
   ],
   "source": [
    "\n",
    "plt.plot(x, par[0] * x + par[1], 'r')\n",
    "plt.errorbar(x, y, yerr=sigma_y, fmt='o')\n",
    "plt.xlim(0-0.01, 0.4)\n",
    "plt.ylim(0.00045,0.00075)\n",
    "plt.show()\n",
    "print(x)\n"
   ]
  },
  {
   "cell_type": "code",
   "execution_count": 15,
   "id": "039280eb",
   "metadata": {},
   "outputs": [
    {
     "name": "stdout",
     "output_type": "stream",
     "text": [
      "t0^2 chi_continuo = 0.0006185701031123223 ± 7.01121736229365e-05\n"
     ]
    }
   ],
   "source": [
    "t02chi_continuo=par[1]\n",
    "t02chi_continuo_err=sqrt(cov[1][1])\n",
    "print('t0^2 chi_continuo =', t02chi_continuo, '±', t02chi_continuo_err)"
   ]
  },
  {
   "cell_type": "code",
   "execution_count": 16,
   "id": "20ec01ec",
   "metadata": {},
   "outputs": [
    {
     "name": "stdout",
     "output_type": "stream",
     "text": [
      "chi= 176.81578511146049 ± 5.010320965495913 ± 4.018540570715011\n"
     ]
    }
   ],
   "source": [
    "sqrtt0=0.176\n",
    "sqrtt0_err=0.004\n",
    "t0squareinv=sqrtt0**(-4)\n",
    "t0squareinv_err=4*sqrtt0**(-5)*sqrtt0_err\n",
    "chi_continuo=t02chi_continuo*t0squareinv #è in fermi alla -4\n",
    "chi_continuo_errstat=t02chi_continuo_err*t0squareinv\n",
    "chi_continuo_errsist=t02chi_continuo*t0squareinv_err\n",
    "hbarc=197.3269804\n",
    "chi_continuo_pu=chi_continuo*hbarc**4\n",
    "chi_continuo_pu_errstat=chi_continuo_errstat*hbarc**4\n",
    "chi_continuo_pu_errsist=chi_continuo_errsist*hbarc**4\n",
    "print('chi=', chi_continuo_pu**(1/4), '±', 0.25*chi_continuo_pu**(-3/4)*chi_continuo_pu_errstat, '±', 0.25*chi_continuo_pu**(-3/4)*chi_continuo_pu_errsist)\n"
   ]
  }
 ],
 "metadata": {
  "kernelspec": {
   "display_name": "Python 3",
   "language": "python",
   "name": "python3"
  },
  "language_info": {
   "codemirror_mode": {
    "name": "ipython",
    "version": 3
   },
   "file_extension": ".py",
   "mimetype": "text/x-python",
   "name": "python",
   "nbconvert_exporter": "python",
   "pygments_lexer": "ipython3",
   "version": "3.10.9"
  }
 },
 "nbformat": 4,
 "nbformat_minor": 5
}
